{
 "cells": [
  {
   "cell_type": "code",
   "execution_count": 3,
   "metadata": {},
   "outputs": [],
   "source": [
    "from selenium import webdriver\n",
    "from selenium.webdriver.common.keys import Keys\n",
    "from selenium.webdriver.common.by import By\n",
    "\n",
    "driver = webdriver.Chrome() #Criando uma instância do Google Chrome e salvando na variável 'driver'\n",
    "link_google_play = 'https://play.google.com/store/apps'\n",
    "driver.get(link_google_play) #Navegando para o URL de interesse"
   ]
  },
  {
   "cell_type": "code",
   "execution_count": 13,
   "metadata": {},
   "outputs": [],
   "source": [
    "from selenium.webdriver.support.ui import WebDriverWait\n",
    "from selenium.webdriver.support import expected_conditions as EC\n",
    "\n",
    "xpath_element = '//*[@id=\"yDmH0d\"]/c-wiz[2]/div/div/div[1]/c-wiz/div/c-wiz/c-wiz'\n",
    "elements = driver.find_elements(By.XPATH, xpath_element)\n",
    "#element = WebDriverWait(driver, 10).until(EC.element_to_be_clickable((By.XPATH, xpath_teste)))\n",
    "\n"
   ]
  },
  {
   "cell_type": "code",
   "execution_count": 14,
   "metadata": {},
   "outputs": [
    {
     "data": {
      "text/plain": [
       "30"
      ]
     },
     "execution_count": 14,
     "metadata": {},
     "output_type": "execute_result"
    }
   ],
   "source": [
    "len(elements)"
   ]
  },
  {
   "cell_type": "code",
   "execution_count": null,
   "metadata": {},
   "outputs": [],
   "source": []
  }
 ],
 "metadata": {
  "kernelspec": {
   "display_name": "Python 3.10.2 64-bit",
   "language": "python",
   "name": "python3"
  },
  "language_info": {
   "codemirror_mode": {
    "name": "ipython",
    "version": 3
   },
   "file_extension": ".py",
   "mimetype": "text/x-python",
   "name": "python",
   "nbconvert_exporter": "python",
   "pygments_lexer": "ipython3",
   "version": "3.10.2"
  },
  "orig_nbformat": 4,
  "vscode": {
   "interpreter": {
    "hash": "5159613a1f36e4f06201bfd0210dfb86fbc9b60404dc1e299765ffc4cc3d2785"
   }
  }
 },
 "nbformat": 4,
 "nbformat_minor": 2
}
