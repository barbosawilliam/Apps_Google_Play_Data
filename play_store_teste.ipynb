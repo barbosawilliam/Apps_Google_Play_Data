{
 "cells": [
  {
   "cell_type": "code",
   "execution_count": 1,
   "metadata": {},
   "outputs": [],
   "source": [
    "from selenium import webdriver\n",
    "from selenium.webdriver.common.keys import Keys\n",
    "from selenium.webdriver.common.by import By\n",
    "from time import sleep\n",
    "#from selenium.webdriver.support.ui import WebDriverWait\n",
    "#from selenium.webdriver.support import expected_conditions as EC\n",
    "\n",
    "# Funções auxiliares\n",
    "def Adiciona_Link_em_Lista (link_atual, lista_links, categoria):\n",
    "    \"\"\"\n",
    "    Função void que vai adicionar 'link_atual' em 'lista_links' na devida 'categoria'.\n",
    "    Se o 'link_atual' já estiver dentro da 'lista_links', então verifica se a 'categoria' já está na 'lista_links'\n",
    "\n",
    "    Param: \n",
    "        link_atual: str com o link do app\n",
    "        lista_links: lista que contém os links dos apps e as categorias a que pertencem\n",
    "            (ex. [[link1, [categoria1, categoria2]], [link33, [categoria3]]])\n",
    "        categoria: str com a categoria que está sendo buscada\n",
    "\n",
    "    Return:\n",
    "        void\n",
    "    \"\"\"\n",
    "    ja_registrado = False\n",
    "    for registro in lista_links:\n",
    "        if (link_atual in registro):\n",
    "            if (categoria not in registro[1]):\n",
    "                registro[1].append(categoria)\n",
    "            ja_registrado = True\n",
    "    \n",
    "    if (not ja_registrado):\n",
    "        lista_links.append([link_atual, [categoria]])\n",
    "\n",
    "driver = webdriver.Chrome() #Criando uma instância do Google Chrome e salvando na variável 'driver'\n",
    "link_google_play = 'https://play.google.com/store/apps'\n",
    "driver.get(link_google_play) #Navegando para o URL de interesse"
   ]
  },
  {
   "cell_type": "code",
   "execution_count": 21,
   "metadata": {},
   "outputs": [
    {
     "name": "stdout",
     "output_type": "stream",
     "text": [
      "Encontrei o botão 'Mostrar Mais'.\n"
     ]
    }
   ],
   "source": [
    "# Antes de buscar as categorias, vou descer a página para liberar todas (algumas começam ocultas) \n",
    "xpath_mostrar_mais = '//*[@id=\"yDmH0d\"]/c-wiz[2]/div/div/div[1]/c-wiz/div/c-wiz/div/div/span/span'\n",
    "achou_botao = False\n",
    "\n",
    "while (not achou_botao):\n",
    "    driver.execute_script(\"window.scrollTo(0,document.body.scrollHeight)\")\n",
    "\n",
    "    try:\n",
    "        botao_mostrar_mais = driver.find_element(By.XPATH, xpath_mostrar_mais)\n",
    "        print(f\"Todas as categorias estão visíveis.\")\n",
    "        botao_mostrar_mais.click()\n",
    "        driver.execute_script(\"window.scrollTo(0,document.body.scrollHeight)\")\n",
    "        achou_botao = True\n",
    "    except:\n",
    "        # print(\"Ainda não achei o botão.\")\n",
    "        pass\n",
    "    \n",
    "driver.execute_script(\"window.scrollTo(0,0)\") #Voltando para o topo da página."
   ]
  },
  {
   "cell_type": "code",
   "execution_count": 22,
   "metadata": {},
   "outputs": [
    {
     "name": "stdout",
     "output_type": "stream",
     "text": [
      "Elementos localizados.\n"
     ]
    }
   ],
   "source": [
    "#Localizando todas as divisões que contêm as categorias de Apps\n",
    "xpath_element = '//*[@id=\"yDmH0d\"]/c-wiz[2]/div/div/div[1]/c-wiz/div/c-wiz/c-wiz'\n",
    "elements = driver.find_elements(By.XPATH, xpath_element)\n",
    "print(\"Elementos localizados.\")"
   ]
  },
  {
   "cell_type": "code",
   "execution_count": null,
   "metadata": {},
   "outputs": [],
   "source": [
    "def Localiza_Apps_Semelhantes ():\n",
    "    pass"
   ]
  },
  {
   "cell_type": "code",
   "execution_count": 49,
   "metadata": {},
   "outputs": [
    {
     "name": "stdout",
     "output_type": "stream",
     "text": [
      "Quantidade de apps na categoria 'Comunicação': 20\n",
      "Quantidade de apps na categoria 'Mapas e GPS': 7\n",
      "Quantidade de apps na categoria 'Entretenimento': 64\n",
      "Quantidade de apps na categoria 'Ferramentas e utilitários': 18\n",
      "Quantidade de apps na categoria 'Novidades': 7\n",
      "Quantidade de apps na categoria 'Navegadores para dispositivos móveis': 5\n",
      "Quantidade de apps na categoria 'Turismo e guia local': 11\n",
      "Quantidade de apps na categoria 'Edição profissional de fotos': 7\n",
      "Quantidade de apps na categoria 'Música e áudio': 58\n",
      "Quantidade de apps na categoria 'Vá às compras': 15\n",
      "Quantidade de apps na categoria 'Livros e referências': 55\n",
      "Quantidade de apps na categoria 'Produtividade': 5\n",
      "Quantidade de apps na categoria 'Rede social': 7\n",
      "Quantidade de apps na categoria 'Apps premium': 20\n",
      "Quantidade de apps na categoria 'Ferramentas de orçamento': 18\n",
      "Quantidade de apps na categoria 'Programas de treino': 16\n",
      "Quantidade de apps na categoria 'Solicite uma viagem': 5\n",
      "Quantidade total de apps: 338\n"
     ]
    }
   ],
   "source": [
    "categorias_apps = [\n",
    "    'Comunicação',\n",
    "    'Mapas e GPS',\n",
    "    'Assista programas de TV e filmes',\n",
    "    'Entretenimento',\n",
    "    'Players e editores de vídeo',\n",
    "    'Turismo e guia local',\n",
    "    'Ferramentas e utilitários',\n",
    "    'Novidades',\n",
    "    'Navegadores para dispositivos móveis',\n",
    "    'Arte e design',\n",
    "    'Música e áudio',\n",
    "    'Ferramentas de negócios',\n",
    "    'Vá às compras',\n",
    "    'Livros e referências',\n",
    "    'Edição profissional de fotos',\n",
    "    'Produtividade',\n",
    "    'Apps premium',\n",
    "    'Rede social',\n",
    "    'Ferramentas de orçamento',\n",
    "    'Programas de treino',\n",
    "    'Solicite uma viagem']\n",
    "\n",
    "lista_link_apps = [] #Lista onde serão guardados os links dos apps encontrados com as categorias a que pertencem\n",
    "for element in elements:\n",
    "    try:\n",
    "        categoria = element.find_element(By.XPATH, \".//c-wiz/section/header/div\").text\n",
    "        \n",
    "        if (categoria in categorias_apps): # Se o elemento lido está dentro da lista de categorias dos apps, então pegar os apps dela\n",
    "        #if (categoria == \"Comunicação\"): #APAGAR ***************************************************\n",
    "            \n",
    "            apps = element.find_elements(By.XPATH, './/c-wiz/section/div/div/div/div/div/div[1]/div') # Caminho para todos os apps de uma categoria\n",
    "            print(f\"Quantidade de apps na categoria '{categoria}': {len(apps)}\")\n",
    "            #print(\"Link dos apps dessa categoria:\")\n",
    "            for app in apps:\n",
    "                app_link = app.find_element(By.XPATH, \".//div/div/a\").get_attribute(\"href\")\n",
    "                Adiciona_Link_em_Lista(app_link, lista_link_apps, categoria)\n",
    "                #print(app_link)\n",
    "            \n",
    "    except:\n",
    "        pass\n"
   ]
  },
  {
   "cell_type": "code",
   "execution_count": 2,
   "metadata": {},
   "outputs": [],
   "source": [
    "# Funções auxiliares\n",
    "def Adiciona_Link_em_Lista (link_atual, lista_links, categoria):\n",
    "    \"\"\"\n",
    "    Função void que vai adicionar 'link_atual' em 'lista_links' na devida 'categoria'.\n",
    "    Se o 'link_atual' já estiver dentro da 'lista_links', então verifica se a 'categoria' já está na 'lista_links'\n",
    "\n",
    "    Param: \n",
    "        link_atual: str com o link do app\n",
    "        lista_links: lista que contém os links dos apps e as categorias a que pertencem\n",
    "            (ex. [[link1, [categoria1, categoria2]], [link33, [categoria3]]])\n",
    "        categoria: str com a categoria que está sendo buscada\n",
    "\n",
    "    Return:\n",
    "        void\n",
    "    \"\"\"\n",
    "    ja_registrado = False\n",
    "    for registro in lista_links:\n",
    "        if (link_atual in registro):\n",
    "            if (categoria not in registro[1]):\n",
    "                registro[1].append(categoria)\n",
    "            ja_registrado = True\n",
    "    \n",
    "    if (not ja_registrado):\n",
    "        lista_links.append([link_atual, [categoria]])\n",
    "\n",
    "def Extrai_Apps_em_Alta (element, lista_final):\n",
    "    colunas_apps = element.find_elements(By.XPATH, './/c-wiz/section/div/div[3]/div/div/div/div[1]/div')\n",
    "    #print(f\"Quantidade de colunas: {len(colunas_apps)}\")\n",
    "\n",
    "    for coluna in colunas_apps:\n",
    "        #print(f\"Coluna número: {cont}\")\n",
    "        apps = coluna.find_elements(By.XPATH, './div')\n",
    "        #print(f\"Quantidade de apps encontrados: {len(apps)}\")\n",
    "        for app in apps:\n",
    "            try:\n",
    "                classificacao = app.find_element(By.XPATH, './/div/a/div[1]/div').text\n",
    "                #print(classificacao)\n",
    "                link = app.find_element(By.XPATH, './/div/a').get_attribute(\"href\")\n",
    "                #print(link)\n",
    "                categoria = app.find_element(By.XPATH, './/div/a/div[2]/div/div[2]/span').text\n",
    "                #print(categoria)\n",
    "                lista_final.append([link, categoria, classificacao])\n",
    "            except:\n",
    "                print(\"Deu ruim\")\n",
    "\n",
    "def Formata_Dimensao (leitura):\n",
    "    multiplicador = 1\n",
    "    numero = float(leitura[0].replace(',', '.'))\n",
    "    if (leitura[1] == 'mil'):\n",
    "        multiplicador *= 10**3\n",
    "    elif (leitura[1] == 'mi'):\n",
    "        multiplicador *= 10**6\n",
    "    elif (leitura[1] == 'bi'):\n",
    "        multiplicador *= 10**9\n",
    "        \n",
    "    return int(numero * multiplicador)\n",
    "\n",
    "def Formata_Data(data):\n",
    "    data = data.replace(\".\", \"\").split()\n",
    "    dic_meses = {\n",
    "        \"jan\":\"01\",\n",
    "        \"fev\":\"02\",\n",
    "        \"mar\":\"03\",\n",
    "        \"abr\":\"04\",\n",
    "        \"mai\":\"05\",\n",
    "        \"jun\":\"06\",\n",
    "        \"jul\":\"07\",\n",
    "        \"ago\":\"08\",\n",
    "        \"set\":\"09\",\n",
    "        \"out\":\"10\",\n",
    "        \"nov\":\"11\",\n",
    "        \"dez\":\"12\"\n",
    "    }\n",
    "    dia = data[0]\n",
    "    mes = dic_meses[data[2]]\n",
    "    ano = data[-1]\n",
    "    data_final = dia+'/'+mes+\"/\"+ano\n",
    "    return data_final\n"
   ]
  },
  {
   "cell_type": "code",
   "execution_count": 3,
   "metadata": {},
   "outputs": [
    {
     "name": "stdout",
     "output_type": "stream",
     "text": [
      "Elementos localizados.\n",
      "Extraindo os Apps gratuitos em alta\n",
      "Extraindo os Apps mais rentáveis.\n",
      "Extraindo os Apps pagos em alta\n"
     ]
    }
   ],
   "source": [
    "# BLOCO QUE VAI CRIAR AS LISTAS COM O LINK DOS APPS EM ALTA\n",
    "\n",
    "#Localizando todas as divisões que contêm as categorias de Apps\n",
    "xpath_element = '//*[@id=\"yDmH0d\"]/c-wiz[2]/div/div/div[1]/c-wiz/div/c-wiz/c-wiz'\n",
    "elements = driver.find_elements(By.XPATH, xpath_element)\n",
    "print(\"Elementos localizados.\")\n",
    "\n",
    "#Procurando a divisão 'Em Alta'\n",
    "lista_apps_gratuitos = []\n",
    "lista_apps_rentaveis = []\n",
    "lista_apps_pagos = []\n",
    "for element in elements:\n",
    "    try:\n",
    "        titulo = element.find_element(By.XPATH, \".//c-wiz/section/header/div\").text\n",
    "        #print(categoria)\n",
    "        if(titulo == \"Em alta\"):\n",
    "            print(\"Extraindo os Apps gratuitos em alta\")\n",
    "            Extrai_Apps_em_Alta (element, lista_apps_gratuitos)\n",
    "\n",
    "            botao_rentaveis = '//*[@id=\"ct|apps_topgrossing\"]'\n",
    "            driver.find_element(By.XPATH, botao_rentaveis).click()\n",
    "            sleep(2)\n",
    "            print(\"Extraindo os Apps mais rentáveis.\")\n",
    "            Extrai_Apps_em_Alta (element, lista_apps_rentaveis)\n",
    "\n",
    "            botao_pagos = '//*[@id=\"ct|apps_topselling_paid\"]'\n",
    "            driver.find_element(By.XPATH, botao_pagos).click()\n",
    "            sleep(2)\n",
    "            print(\"Extraindo os Apps pagos em alta\")\n",
    "            Extrai_Apps_em_Alta (element, lista_apps_pagos)\n",
    "    \n",
    "    except:\n",
    "        # print(\"Elemento sem categoria.\")\n",
    "        # print(element.text)\n",
    "        pass"
   ]
  },
  {
   "cell_type": "code",
   "execution_count": 32,
   "metadata": {},
   "outputs": [],
   "source": [
    "lista_geral = []\n",
    "app = lista_apps_gratuitos[0]\n",
    "app = lista_apps_pagos[19]\n",
    "#app = lista_apps_rentaveis[0]\n",
    "\n",
    "link = app[0]\n",
    "categoria = app[1]\n",
    "classificacao = app[2]\n",
    "\n",
    "driver.get(link)\n",
    "\n"
   ]
  },
  {
   "cell_type": "code",
   "execution_count": 33,
   "metadata": {},
   "outputs": [],
   "source": [
    "conteudo = driver.find_element(By.XPATH, '//*[@id=\"yDmH0d\"]/c-wiz[2]/div/div/div[1]/div[1]/div/div/div/div[1]/div/c-wiz/div/div/div/div/button/span').text\n"
   ]
  },
  {
   "cell_type": "code",
   "execution_count": 34,
   "metadata": {},
   "outputs": [
    {
     "data": {
      "text/plain": [
       "3.79"
      ]
     },
     "execution_count": 34,
     "metadata": {},
     "output_type": "execute_result"
    }
   ],
   "source": [
    "preco = float(conteudo.split()[2][:-1].replace(\",\", \".\"))\n",
    "preco"
   ]
  },
  {
   "cell_type": "code",
   "execution_count": null,
   "metadata": {},
   "outputs": [],
   "source": []
  }
 ],
 "metadata": {
  "kernelspec": {
   "display_name": "Python 3.10.2 64-bit",
   "language": "python",
   "name": "python3"
  },
  "language_info": {
   "codemirror_mode": {
    "name": "ipython",
    "version": 3
   },
   "file_extension": ".py",
   "mimetype": "text/x-python",
   "name": "python",
   "nbconvert_exporter": "python",
   "pygments_lexer": "ipython3",
   "version": "3.10.2"
  },
  "orig_nbformat": 4,
  "vscode": {
   "interpreter": {
    "hash": "5159613a1f36e4f06201bfd0210dfb86fbc9b60404dc1e299765ffc4cc3d2785"
   }
  }
 },
 "nbformat": 4,
 "nbformat_minor": 2
}
